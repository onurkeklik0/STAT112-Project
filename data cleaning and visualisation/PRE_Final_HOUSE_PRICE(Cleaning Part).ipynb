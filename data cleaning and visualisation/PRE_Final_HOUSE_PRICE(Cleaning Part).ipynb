{
 "cells": [
  {
   "cell_type": "code",
   "execution_count": 127,
   "metadata": {
    "id": "c8l0zNMPP0bz"
   },
   "outputs": [],
   "source": [
    "import pandas as pd\n",
    "import numpy as np\n"
   ]
  },
  {
   "cell_type": "code",
   "execution_count": 128,
   "metadata": {
    "colab": {
     "base_uri": "https://localhost:8080/",
     "height": 423
    },
    "id": "Ju2gRtLjQAnI",
    "outputId": "d03038b1-cc08-4e39-acc4-fadb078dc8d1"
   },
   "outputs": [
    {
     "data": {
      "text/html": [
       "\n",
       "  <div id=\"df-e4384244-d134-4340-a63a-03b138d3e33a\">\n",
       "    <div class=\"colab-df-container\">\n",
       "      <div>\n",
       "<style scoped>\n",
       "    .dataframe tbody tr th:only-of-type {\n",
       "        vertical-align: middle;\n",
       "    }\n",
       "\n",
       "    .dataframe tbody tr th {\n",
       "        vertical-align: top;\n",
       "    }\n",
       "\n",
       "    .dataframe thead th {\n",
       "        text-align: right;\n",
       "    }\n",
       "</style>\n",
       "<table border=\"1\" class=\"dataframe\">\n",
       "  <thead>\n",
       "    <tr style=\"text-align: right;\">\n",
       "      <th></th>\n",
       "      <th>price</th>\n",
       "      <th>age</th>\n",
       "      <th>floor</th>\n",
       "      <th>heating_system</th>\n",
       "      <th>number_of_room</th>\n",
       "      <th>district</th>\n",
       "      <th>area</th>\n",
       "      <th>unit</th>\n",
       "      <th>district_socioeconomic_status</th>\n",
       "    </tr>\n",
       "  </thead>\n",
       "  <tbody>\n",
       "    <tr>\n",
       "      <th>0</th>\n",
       "      <td>4.970750e+05</td>\n",
       "      <td>5.0</td>\n",
       "      <td>NaN</td>\n",
       "      <td>0.0</td>\n",
       "      <td>3.0</td>\n",
       "      <td>Mamak</td>\n",
       "      <td>112.5</td>\n",
       "      <td>m2</td>\n",
       "      <td>Low Level</td>\n",
       "    </tr>\n",
       "    <tr>\n",
       "      <th>1</th>\n",
       "      <td>6.197410e+05</td>\n",
       "      <td>7.0</td>\n",
       "      <td>5.0</td>\n",
       "      <td>0.0</td>\n",
       "      <td>6.0</td>\n",
       "      <td>ÇaNKAya</td>\n",
       "      <td>153.1</td>\n",
       "      <td>m2</td>\n",
       "      <td>High Level</td>\n",
       "    </tr>\n",
       "    <tr>\n",
       "      <th>2</th>\n",
       "      <td>5.651450e+05</td>\n",
       "      <td>11.0</td>\n",
       "      <td>5.0</td>\n",
       "      <td>0.0</td>\n",
       "      <td>NaN</td>\n",
       "      <td>Çankaya</td>\n",
       "      <td>NaN</td>\n",
       "      <td>m2</td>\n",
       "      <td>High Level</td>\n",
       "    </tr>\n",
       "    <tr>\n",
       "      <th>3</th>\n",
       "      <td>5.931840e+05</td>\n",
       "      <td>7.0</td>\n",
       "      <td>5.0</td>\n",
       "      <td>0.0</td>\n",
       "      <td>4.0</td>\n",
       "      <td>Çankaya</td>\n",
       "      <td>127.3</td>\n",
       "      <td>m2</td>\n",
       "      <td>NaN</td>\n",
       "    </tr>\n",
       "    <tr>\n",
       "      <th>4</th>\n",
       "      <td>NaN</td>\n",
       "      <td>6.0</td>\n",
       "      <td>1.0</td>\n",
       "      <td>NaN</td>\n",
       "      <td>0.0</td>\n",
       "      <td>Mamak</td>\n",
       "      <td>79.9</td>\n",
       "      <td>m2</td>\n",
       "      <td>Low Level</td>\n",
       "    </tr>\n",
       "    <tr>\n",
       "      <th>...</th>\n",
       "      <td>...</td>\n",
       "      <td>...</td>\n",
       "      <td>...</td>\n",
       "      <td>...</td>\n",
       "      <td>...</td>\n",
       "      <td>...</td>\n",
       "      <td>...</td>\n",
       "      <td>...</td>\n",
       "      <td>...</td>\n",
       "    </tr>\n",
       "    <tr>\n",
       "      <th>155</th>\n",
       "      <td>5.806670e+05</td>\n",
       "      <td>1000.0</td>\n",
       "      <td>5.0</td>\n",
       "      <td>NaN</td>\n",
       "      <td>NaN</td>\n",
       "      <td>Çankaya</td>\n",
       "      <td>115.7</td>\n",
       "      <td>m2</td>\n",
       "      <td>High LeVeL</td>\n",
       "    </tr>\n",
       "    <tr>\n",
       "      <th>156</th>\n",
       "      <td>5.057010e+05</td>\n",
       "      <td>11.0</td>\n",
       "      <td>NaN</td>\n",
       "      <td>0.0</td>\n",
       "      <td>2.0</td>\n",
       "      <td>Keçiören</td>\n",
       "      <td>106.1</td>\n",
       "      <td>NaN</td>\n",
       "      <td>Middle Level</td>\n",
       "    </tr>\n",
       "    <tr>\n",
       "      <th>157</th>\n",
       "      <td>4.814590e+05</td>\n",
       "      <td>7.0</td>\n",
       "      <td>0.0</td>\n",
       "      <td>0.0</td>\n",
       "      <td>3.0</td>\n",
       "      <td>Mamak</td>\n",
       "      <td>NaN</td>\n",
       "      <td>m2</td>\n",
       "      <td>Low Level</td>\n",
       "    </tr>\n",
       "    <tr>\n",
       "      <th>158</th>\n",
       "      <td>5.321420e+05</td>\n",
       "      <td>5.0</td>\n",
       "      <td>2.0</td>\n",
       "      <td>0.0</td>\n",
       "      <td>4.0</td>\n",
       "      <td>Keçiören</td>\n",
       "      <td>131.0</td>\n",
       "      <td>m2</td>\n",
       "      <td>Middle Level</td>\n",
       "    </tr>\n",
       "    <tr>\n",
       "      <th>159</th>\n",
       "      <td>5.000000e+15</td>\n",
       "      <td>9.0</td>\n",
       "      <td>3.0</td>\n",
       "      <td>0.0</td>\n",
       "      <td>2.0</td>\n",
       "      <td>Keçiören</td>\n",
       "      <td>101.2</td>\n",
       "      <td>m2</td>\n",
       "      <td>Middle Level</td>\n",
       "    </tr>\n",
       "  </tbody>\n",
       "</table>\n",
       "<p>160 rows × 9 columns</p>\n",
       "</div>\n",
       "      <button class=\"colab-df-convert\" onclick=\"convertToInteractive('df-e4384244-d134-4340-a63a-03b138d3e33a')\"\n",
       "              title=\"Convert this dataframe to an interactive table.\"\n",
       "              style=\"display:none;\">\n",
       "        \n",
       "  <svg xmlns=\"http://www.w3.org/2000/svg\" height=\"24px\"viewBox=\"0 0 24 24\"\n",
       "       width=\"24px\">\n",
       "    <path d=\"M0 0h24v24H0V0z\" fill=\"none\"/>\n",
       "    <path d=\"M18.56 5.44l.94 2.06.94-2.06 2.06-.94-2.06-.94-.94-2.06-.94 2.06-2.06.94zm-11 1L8.5 8.5l.94-2.06 2.06-.94-2.06-.94L8.5 2.5l-.94 2.06-2.06.94zm10 10l.94 2.06.94-2.06 2.06-.94-2.06-.94-.94-2.06-.94 2.06-2.06.94z\"/><path d=\"M17.41 7.96l-1.37-1.37c-.4-.4-.92-.59-1.43-.59-.52 0-1.04.2-1.43.59L10.3 9.45l-7.72 7.72c-.78.78-.78 2.05 0 2.83L4 21.41c.39.39.9.59 1.41.59.51 0 1.02-.2 1.41-.59l7.78-7.78 2.81-2.81c.8-.78.8-2.07 0-2.86zM5.41 20L4 18.59l7.72-7.72 1.47 1.35L5.41 20z\"/>\n",
       "  </svg>\n",
       "      </button>\n",
       "      \n",
       "  <style>\n",
       "    .colab-df-container {\n",
       "      display:flex;\n",
       "      flex-wrap:wrap;\n",
       "      gap: 12px;\n",
       "    }\n",
       "\n",
       "    .colab-df-convert {\n",
       "      background-color: #E8F0FE;\n",
       "      border: none;\n",
       "      border-radius: 50%;\n",
       "      cursor: pointer;\n",
       "      display: none;\n",
       "      fill: #1967D2;\n",
       "      height: 32px;\n",
       "      padding: 0 0 0 0;\n",
       "      width: 32px;\n",
       "    }\n",
       "\n",
       "    .colab-df-convert:hover {\n",
       "      background-color: #E2EBFA;\n",
       "      box-shadow: 0px 1px 2px rgba(60, 64, 67, 0.3), 0px 1px 3px 1px rgba(60, 64, 67, 0.15);\n",
       "      fill: #174EA6;\n",
       "    }\n",
       "\n",
       "    [theme=dark] .colab-df-convert {\n",
       "      background-color: #3B4455;\n",
       "      fill: #D2E3FC;\n",
       "    }\n",
       "\n",
       "    [theme=dark] .colab-df-convert:hover {\n",
       "      background-color: #434B5C;\n",
       "      box-shadow: 0px 1px 3px 1px rgba(0, 0, 0, 0.15);\n",
       "      filter: drop-shadow(0px 1px 2px rgba(0, 0, 0, 0.3));\n",
       "      fill: #FFFFFF;\n",
       "    }\n",
       "  </style>\n",
       "\n",
       "      <script>\n",
       "        const buttonEl =\n",
       "          document.querySelector('#df-e4384244-d134-4340-a63a-03b138d3e33a button.colab-df-convert');\n",
       "        buttonEl.style.display =\n",
       "          google.colab.kernel.accessAllowed ? 'block' : 'none';\n",
       "\n",
       "        async function convertToInteractive(key) {\n",
       "          const element = document.querySelector('#df-e4384244-d134-4340-a63a-03b138d3e33a');\n",
       "          const dataTable =\n",
       "            await google.colab.kernel.invokeFunction('convertToInteractive',\n",
       "                                                     [key], {});\n",
       "          if (!dataTable) return;\n",
       "\n",
       "          const docLinkHtml = 'Like what you see? Visit the ' +\n",
       "            '<a target=\"_blank\" href=https://colab.research.google.com/notebooks/data_table.ipynb>data table notebook</a>'\n",
       "            + ' to learn more about interactive tables.';\n",
       "          element.innerHTML = '';\n",
       "          dataTable['output_type'] = 'display_data';\n",
       "          await google.colab.output.renderOutput(dataTable, element);\n",
       "          const docLink = document.createElement('div');\n",
       "          docLink.innerHTML = docLinkHtml;\n",
       "          element.appendChild(docLink);\n",
       "        }\n",
       "      </script>\n",
       "    </div>\n",
       "  </div>\n",
       "  "
      ],
      "text/plain": [
       "            price     age  floor  heating_system  number_of_room  district  \\\n",
       "0    4.970750e+05     5.0    NaN             0.0             3.0     Mamak   \n",
       "1    6.197410e+05     7.0    5.0             0.0             6.0   ÇaNKAya   \n",
       "2    5.651450e+05    11.0    5.0             0.0             NaN   Çankaya   \n",
       "3    5.931840e+05     7.0    5.0             0.0             4.0   Çankaya   \n",
       "4             NaN     6.0    1.0             NaN             0.0     Mamak   \n",
       "..            ...     ...    ...             ...             ...       ...   \n",
       "155  5.806670e+05  1000.0    5.0             NaN             NaN   Çankaya   \n",
       "156  5.057010e+05    11.0    NaN             0.0             2.0  Keçiören   \n",
       "157  4.814590e+05     7.0    0.0             0.0             3.0     Mamak   \n",
       "158  5.321420e+05     5.0    2.0             0.0             4.0  Keçiören   \n",
       "159  5.000000e+15     9.0    3.0             0.0             2.0  Keçiören   \n",
       "\n",
       "      area unit district_socioeconomic_status  \n",
       "0    112.5   m2                     Low Level  \n",
       "1    153.1   m2                    High Level  \n",
       "2      NaN   m2                    High Level  \n",
       "3    127.3   m2                           NaN  \n",
       "4     79.9   m2                     Low Level  \n",
       "..     ...  ...                           ...  \n",
       "155  115.7   m2                    High LeVeL  \n",
       "156  106.1  NaN                  Middle Level  \n",
       "157    NaN   m2                     Low Level  \n",
       "158  131.0   m2                  Middle Level  \n",
       "159  101.2   m2                  Middle Level  \n",
       "\n",
       "[160 rows x 9 columns]"
      ]
     },
     "execution_count": 128,
     "metadata": {},
     "output_type": "execute_result"
    }
   ],
   "source": [
    "df = pd.read_excel(\"house_price.xlsx\")\n",
    "df"
   ]
  },
  {
   "cell_type": "code",
   "execution_count": 129,
   "metadata": {
    "id": "cv1DerDLQSnz"
   },
   "outputs": [],
   "source": [
    "df[\"district\"] = df[\"district\"].str.lower() #we changed of all data to lowercase, it was not necessary but there was something wrong,i solved it with that.\n",
    "df[\"district\"] = df[\"district\"].str.title() #To convert all data title.\n",
    "df[\"district\"] = df[\"district\"].str.strip() #To avoid white spaces.\n",
    "df[\"district\"]\n",
    "df[\"district_socioeconomic_status\"] = df[\"district_socioeconomic_status\"].str.lower() #Same reasons with above.\n",
    "df[\"district_socioeconomic_status\"] = df[\"district_socioeconomic_status\"].str.title() #To convert all data title.\n",
    "df[\"district_socioeconomic_status\"] = df[\"district_socioeconomic_status\"].str.strip() #To avoid white spaces.\n",
    "\n"
   ]
  },
  {
   "cell_type": "code",
   "execution_count": 130,
   "metadata": {
    "colab": {
     "base_uri": "https://localhost:8080/"
    },
    "id": "wNuN24-qYXRl",
    "outputId": "8d6ab394-6f26-448e-e268-ecddb43d398f"
   },
   "outputs": [
    {
     "name": "stdout",
     "output_type": "stream",
     "text": [
      "            price     age  floor  heating_system  number_of_room  district  \\\n",
      "0    4.970750e+05     5.0    NaN             0.0             3.0     Mamak   \n",
      "1    6.197410e+05     7.0    5.0             0.0             6.0   Çankaya   \n",
      "2    5.651450e+05    11.0    5.0             0.0             NaN   Çankaya   \n",
      "3    5.931840e+05     7.0    5.0             0.0             4.0   Çankaya   \n",
      "4             NaN     6.0    1.0             NaN             0.0     Mamak   \n",
      "..            ...     ...    ...             ...             ...       ...   \n",
      "155  5.806670e+05  1000.0    5.0             NaN             NaN   Çankaya   \n",
      "156  5.057010e+05    11.0    NaN             0.0             2.0  Keçiören   \n",
      "157  4.814590e+05     7.0    0.0             0.0             3.0     Mamak   \n",
      "158  5.321420e+05     5.0    2.0             0.0             4.0  Keçiören   \n",
      "159  5.000000e+15     9.0    3.0             0.0             2.0  Keçiören   \n",
      "\n",
      "      area unit district_socioeconomic_status  \n",
      "0    112.5   m2                     Low Level  \n",
      "1    153.1   m2                    High Level  \n",
      "2      NaN   m2                    High Level  \n",
      "3    127.3   m2                           NaN  \n",
      "4     79.9   m2                     Low Level  \n",
      "..     ...  ...                           ...  \n",
      "155  115.7   m2                    High Level  \n",
      "156  106.1  NaN                  Middle Level  \n",
      "157    NaN   m2                     Low Level  \n",
      "158  131.0   m2                  Middle Level  \n",
      "159  101.2   m2                  Middle Level  \n",
      "\n",
      "[160 rows x 9 columns]\n"
     ]
    }
   ],
   "source": [
    "df.loc[df[\"district_socioeconomic_status\"] == \"High Level\", \"district\"]  = \"Çankaya\"\n",
    "df.loc[df[\"district_socioeconomic_status\"] == \"Middle Level\", \"district\"]  = \"Keçiören\"\n",
    "df.loc[df[\"district_socioeconomic_status\"] == \"Low Level\", \"district\"]  = \"Mamak\"\n",
    "#We changed empty data with respect to district_socioeconomic_level; Çankaya is High Level,Keçiören is Middle Level, Mamak is Low level.\n",
    "print(df)"
   ]
  },
  {
   "cell_type": "code",
   "execution_count": 131,
   "metadata": {
    "colab": {
     "base_uri": "https://localhost:8080/"
    },
    "id": "xk-_fPBzSDc4",
    "outputId": "65b62cc3-facf-4f81-e77d-84f5c05bd492"
   },
   "outputs": [
    {
     "name": "stdout",
     "output_type": "stream",
     "text": [
      "            price     age  floor  heating_system  number_of_room  district  \\\n",
      "0    4.970750e+05     5.0    NaN             0.0             3.0     Mamak   \n",
      "1    6.197410e+05     7.0    5.0             0.0             6.0   Çankaya   \n",
      "2    5.651450e+05    11.0    5.0             0.0             NaN   Çankaya   \n",
      "3    5.931840e+05     7.0    5.0             0.0             4.0   Çankaya   \n",
      "4             NaN     6.0    1.0             NaN             0.0     Mamak   \n",
      "..            ...     ...    ...             ...             ...       ...   \n",
      "155  5.806670e+05  1000.0    5.0             NaN             NaN   Çankaya   \n",
      "156  5.057010e+05    11.0    NaN             0.0             2.0  Keçiören   \n",
      "157  4.814590e+05     7.0    0.0             0.0             3.0     Mamak   \n",
      "158  5.321420e+05     5.0    2.0             0.0             4.0  Keçiören   \n",
      "159  5.000000e+15     9.0    3.0             0.0             2.0  Keçiören   \n",
      "\n",
      "      area unit district_socioeconomic_status  \n",
      "0    112.5   m2                     Low Level  \n",
      "1    153.1   m2                    High Level  \n",
      "2      NaN   m2                    High Level  \n",
      "3    127.3   m2                    High Level  \n",
      "4     79.9   m2                     Low Level  \n",
      "..     ...  ...                           ...  \n",
      "155  115.7   m2                    High Level  \n",
      "156  106.1  NaN                  Middle Level  \n",
      "157    NaN   m2                     Low Level  \n",
      "158  131.0   m2                  Middle Level  \n",
      "159  101.2   m2                  Middle Level  \n",
      "\n",
      "[160 rows x 9 columns]\n"
     ]
    }
   ],
   "source": [
    "df.loc[df[\"district\"] == \"Çankaya\", \"district_socioeconomic_status\"]  = \"High Level\"\n",
    "df.loc[df[\"district\"] == \"Keçiören\", \"district_socioeconomic_status\"]  = \"Middle Level\"\n",
    "df.loc[df[\"district\"] == \"Mamak\", \"district_socioeconomic_status\"]  = \"Low Level\"\n",
    "#We changed empty data with respect to district, High Level is Çankaya; Middle Level is Keçiören, Low level is Mamak.\n",
    "print(df)\n"
   ]
  },
  {
   "cell_type": "code",
   "execution_count": 132,
   "metadata": {
    "colab": {
     "base_uri": "https://localhost:8080/",
     "height": 206
    },
    "id": "6z3lXdZ_Huwq",
    "outputId": "014c6373-c8b6-493b-9736-f77bbf6d333d"
   },
   "outputs": [
    {
     "data": {
      "text/html": [
       "\n",
       "  <div id=\"df-91e3f1e3-82dd-4941-82ac-2320ed5dcc5f\">\n",
       "    <div class=\"colab-df-container\">\n",
       "      <div>\n",
       "<style scoped>\n",
       "    .dataframe tbody tr th:only-of-type {\n",
       "        vertical-align: middle;\n",
       "    }\n",
       "\n",
       "    .dataframe tbody tr th {\n",
       "        vertical-align: top;\n",
       "    }\n",
       "\n",
       "    .dataframe thead th {\n",
       "        text-align: right;\n",
       "    }\n",
       "</style>\n",
       "<table border=\"1\" class=\"dataframe\">\n",
       "  <thead>\n",
       "    <tr style=\"text-align: right;\">\n",
       "      <th></th>\n",
       "      <th>price</th>\n",
       "      <th>age</th>\n",
       "      <th>floor</th>\n",
       "      <th>heating_system</th>\n",
       "      <th>number_of_room</th>\n",
       "      <th>district</th>\n",
       "      <th>area</th>\n",
       "      <th>unit</th>\n",
       "      <th>district_socioeconomic_status</th>\n",
       "    </tr>\n",
       "  </thead>\n",
       "  <tbody>\n",
       "    <tr>\n",
       "      <th>0</th>\n",
       "      <td>497075.0</td>\n",
       "      <td>5.0</td>\n",
       "      <td>NaN</td>\n",
       "      <td>0.0</td>\n",
       "      <td>3.0</td>\n",
       "      <td>Mamak</td>\n",
       "      <td>112.5</td>\n",
       "      <td>m2</td>\n",
       "      <td>Low Level</td>\n",
       "    </tr>\n",
       "    <tr>\n",
       "      <th>1</th>\n",
       "      <td>619741.0</td>\n",
       "      <td>7.0</td>\n",
       "      <td>5.0</td>\n",
       "      <td>0.0</td>\n",
       "      <td>6.0</td>\n",
       "      <td>Çankaya</td>\n",
       "      <td>153.1</td>\n",
       "      <td>m2</td>\n",
       "      <td>High Level</td>\n",
       "    </tr>\n",
       "    <tr>\n",
       "      <th>2</th>\n",
       "      <td>565145.0</td>\n",
       "      <td>11.0</td>\n",
       "      <td>5.0</td>\n",
       "      <td>0.0</td>\n",
       "      <td>NaN</td>\n",
       "      <td>Çankaya</td>\n",
       "      <td>NaN</td>\n",
       "      <td>m2</td>\n",
       "      <td>High Level</td>\n",
       "    </tr>\n",
       "    <tr>\n",
       "      <th>3</th>\n",
       "      <td>593184.0</td>\n",
       "      <td>7.0</td>\n",
       "      <td>5.0</td>\n",
       "      <td>0.0</td>\n",
       "      <td>4.0</td>\n",
       "      <td>Çankaya</td>\n",
       "      <td>127.3</td>\n",
       "      <td>m2</td>\n",
       "      <td>High Level</td>\n",
       "    </tr>\n",
       "    <tr>\n",
       "      <th>4</th>\n",
       "      <td>NaN</td>\n",
       "      <td>6.0</td>\n",
       "      <td>1.0</td>\n",
       "      <td>NaN</td>\n",
       "      <td>0.0</td>\n",
       "      <td>Mamak</td>\n",
       "      <td>79.9</td>\n",
       "      <td>m2</td>\n",
       "      <td>Low Level</td>\n",
       "    </tr>\n",
       "  </tbody>\n",
       "</table>\n",
       "</div>\n",
       "      <button class=\"colab-df-convert\" onclick=\"convertToInteractive('df-91e3f1e3-82dd-4941-82ac-2320ed5dcc5f')\"\n",
       "              title=\"Convert this dataframe to an interactive table.\"\n",
       "              style=\"display:none;\">\n",
       "        \n",
       "  <svg xmlns=\"http://www.w3.org/2000/svg\" height=\"24px\"viewBox=\"0 0 24 24\"\n",
       "       width=\"24px\">\n",
       "    <path d=\"M0 0h24v24H0V0z\" fill=\"none\"/>\n",
       "    <path d=\"M18.56 5.44l.94 2.06.94-2.06 2.06-.94-2.06-.94-.94-2.06-.94 2.06-2.06.94zm-11 1L8.5 8.5l.94-2.06 2.06-.94-2.06-.94L8.5 2.5l-.94 2.06-2.06.94zm10 10l.94 2.06.94-2.06 2.06-.94-2.06-.94-.94-2.06-.94 2.06-2.06.94z\"/><path d=\"M17.41 7.96l-1.37-1.37c-.4-.4-.92-.59-1.43-.59-.52 0-1.04.2-1.43.59L10.3 9.45l-7.72 7.72c-.78.78-.78 2.05 0 2.83L4 21.41c.39.39.9.59 1.41.59.51 0 1.02-.2 1.41-.59l7.78-7.78 2.81-2.81c.8-.78.8-2.07 0-2.86zM5.41 20L4 18.59l7.72-7.72 1.47 1.35L5.41 20z\"/>\n",
       "  </svg>\n",
       "      </button>\n",
       "      \n",
       "  <style>\n",
       "    .colab-df-container {\n",
       "      display:flex;\n",
       "      flex-wrap:wrap;\n",
       "      gap: 12px;\n",
       "    }\n",
       "\n",
       "    .colab-df-convert {\n",
       "      background-color: #E8F0FE;\n",
       "      border: none;\n",
       "      border-radius: 50%;\n",
       "      cursor: pointer;\n",
       "      display: none;\n",
       "      fill: #1967D2;\n",
       "      height: 32px;\n",
       "      padding: 0 0 0 0;\n",
       "      width: 32px;\n",
       "    }\n",
       "\n",
       "    .colab-df-convert:hover {\n",
       "      background-color: #E2EBFA;\n",
       "      box-shadow: 0px 1px 2px rgba(60, 64, 67, 0.3), 0px 1px 3px 1px rgba(60, 64, 67, 0.15);\n",
       "      fill: #174EA6;\n",
       "    }\n",
       "\n",
       "    [theme=dark] .colab-df-convert {\n",
       "      background-color: #3B4455;\n",
       "      fill: #D2E3FC;\n",
       "    }\n",
       "\n",
       "    [theme=dark] .colab-df-convert:hover {\n",
       "      background-color: #434B5C;\n",
       "      box-shadow: 0px 1px 3px 1px rgba(0, 0, 0, 0.15);\n",
       "      filter: drop-shadow(0px 1px 2px rgba(0, 0, 0, 0.3));\n",
       "      fill: #FFFFFF;\n",
       "    }\n",
       "  </style>\n",
       "\n",
       "      <script>\n",
       "        const buttonEl =\n",
       "          document.querySelector('#df-91e3f1e3-82dd-4941-82ac-2320ed5dcc5f button.colab-df-convert');\n",
       "        buttonEl.style.display =\n",
       "          google.colab.kernel.accessAllowed ? 'block' : 'none';\n",
       "\n",
       "        async function convertToInteractive(key) {\n",
       "          const element = document.querySelector('#df-91e3f1e3-82dd-4941-82ac-2320ed5dcc5f');\n",
       "          const dataTable =\n",
       "            await google.colab.kernel.invokeFunction('convertToInteractive',\n",
       "                                                     [key], {});\n",
       "          if (!dataTable) return;\n",
       "\n",
       "          const docLinkHtml = 'Like what you see? Visit the ' +\n",
       "            '<a target=\"_blank\" href=https://colab.research.google.com/notebooks/data_table.ipynb>data table notebook</a>'\n",
       "            + ' to learn more about interactive tables.';\n",
       "          element.innerHTML = '';\n",
       "          dataTable['output_type'] = 'display_data';\n",
       "          await google.colab.output.renderOutput(dataTable, element);\n",
       "          const docLink = document.createElement('div');\n",
       "          docLink.innerHTML = docLinkHtml;\n",
       "          element.appendChild(docLink);\n",
       "        }\n",
       "      </script>\n",
       "    </div>\n",
       "  </div>\n",
       "  "
      ],
      "text/plain": [
       "      price   age  floor  heating_system  number_of_room district   area unit  \\\n",
       "0  497075.0   5.0    NaN             0.0             3.0    Mamak  112.5   m2   \n",
       "1  619741.0   7.0    5.0             0.0             6.0  Çankaya  153.1   m2   \n",
       "2  565145.0  11.0    5.0             0.0             NaN  Çankaya    NaN   m2   \n",
       "3  593184.0   7.0    5.0             0.0             4.0  Çankaya  127.3   m2   \n",
       "4       NaN   6.0    1.0             NaN             0.0    Mamak   79.9   m2   \n",
       "\n",
       "  district_socioeconomic_status  \n",
       "0                     Low Level  \n",
       "1                    High Level  \n",
       "2                    High Level  \n",
       "3                    High Level  \n",
       "4                     Low Level  "
      ]
     },
     "execution_count": 132,
     "metadata": {},
     "output_type": "execute_result"
    }
   ],
   "source": [
    "df.head()"
   ]
  },
  {
   "cell_type": "markdown",
   "metadata": {
    "id": "1p0mwTum68WE"
   },
   "source": [
    "In the Numeric Cleaning Parts, we have calculated mean and median value. For Age, there is no meaningful difference between each district's mean and general mean, we filled NaN data with the mean. \n",
    "For Price , Floor and Area columns, there is a meaningful difference between district's mean and general mean, so we use groupby() method to fill each NaN data with the appropriate district's median or district's mean value.\n",
    "\n",
    "In cleaning price column part, we have tried a long way to make it better. Then we found a better solution where is above.\n",
    "We left it to be seen what we tried."
   ]
  },
  {
   "cell_type": "code",
   "execution_count": 133,
   "metadata": {
    "id": "khUcjr_JHhR_"
   },
   "outputs": [],
   "source": [
    "# Cleaning Price Column"
   ]
  },
  {
   "cell_type": "code",
   "execution_count": 134,
   "metadata": {
    "colab": {
     "base_uri": "https://localhost:8080/"
    },
    "id": "ygrP01DoH8dc",
    "outputId": "d1da19ff-3b6b-4a22-a2a9-2a65aa543ca7"
   },
   "outputs": [
    {
     "name": "stdout",
     "output_type": "stream",
     "text": [
      "             price     age  floor  heating_system  number_of_room  district  \\\n",
      "0    497075.000000     5.0    NaN             0.0             3.0     Mamak   \n",
      "1    619741.000000     7.0    5.0             0.0             6.0   Çankaya   \n",
      "2    565145.000000    11.0    5.0             0.0             NaN   Çankaya   \n",
      "3    593184.000000     7.0    5.0             0.0             4.0   Çankaya   \n",
      "4    480906.000000     6.0    1.0             NaN             0.0     Mamak   \n",
      "..             ...     ...    ...             ...             ...       ...   \n",
      "155  580667.000000  1000.0    5.0             NaN             NaN   Çankaya   \n",
      "156  505701.000000    11.0    NaN             0.0             2.0  Keçiören   \n",
      "157  481459.000000     7.0    0.0             0.0             3.0     Mamak   \n",
      "158  532142.000000     5.0    2.0             0.0             4.0  Keçiören   \n",
      "159  526836.421053     9.0    3.0             0.0             2.0  Keçiören   \n",
      "\n",
      "      area unit district_socioeconomic_status  \n",
      "0    112.5   m2                     Low Level  \n",
      "1    153.1   m2                    High Level  \n",
      "2      NaN   m2                    High Level  \n",
      "3    127.3   m2                    High Level  \n",
      "4     79.9   m2                     Low Level  \n",
      "..     ...  ...                           ...  \n",
      "155  115.7   m2                    High Level  \n",
      "156  106.1  NaN                  Middle Level  \n",
      "157    NaN   m2                     Low Level  \n",
      "158  131.0   m2                  Middle Level  \n",
      "159  101.2   m2                  Middle Level  \n",
      "\n",
      "[160 rows x 9 columns]\n"
     ]
    }
   ],
   "source": [
    "# We converted 5.000000e+15 to NaN, because we don't want it to affect mean price.\n",
    "df.loc[df[\"price\"]==5.000000e+15, 'price'] = np.nan\n",
    "d_means = df.groupby('district')['price'].mean()\n",
    "\n",
    "m_mean = d_means[1] # 480906.000000\n",
    "k_mean = d_means[0] # 526836.421053\n",
    "c_mean = d_means[2] # 583167.812500\n",
    "\n",
    "df.loc[np.logical_and(df[\"price\"].isna(), df[\"district\"] == 'Mamak'), 'price'] = m_mean\n",
    "df.loc[np.logical_and(df[\"price\"].isna(), df[\"district\"] == 'Keçiören'), 'price'] = k_mean\n",
    "df.loc[np.logical_and(df[\"price\"].isna(), df[\"district\"] == 'Çankaya'), 'price'] = c_mean\n",
    "\n",
    "\n",
    "\n",
    "# sub_cankaya = df[df[\"district\"]== \"Çankaya\"]\n",
    "# sub_keciören = df[df[\"district\"]== \"Keçiören\"]\n",
    "# sub_mamak = df[df[\"district\"]== \"Mamak\"]\n",
    "\n",
    "# df.loc[df[\"price\"]==5.000000e+15, 'price'] = np.nan\n",
    "# d_means = df.groupby('district')['price'].mean()\n",
    "\n",
    "# sub_cankaya.fillna({\"price\": c_mean}, inplace = True) \n",
    "# sub_mamak.fillna({\"price\": m_mean}, inplace = True) \n",
    "# sub_keciören.fillna({\"price\": k_mean}, inplace = True) \n",
    "\n",
    "# for i in sub_cankaya.index:\n",
    "#   df.loc[i,\"price\"] = sub_cankaya.loc[i,\"price\"]\n",
    "# for i in sub_keciören.index:\n",
    "#   df.loc[i,\"price\"] = sub_keciören.loc[i,\"price\"]\n",
    "# for i in sub_mamak.index:\n",
    "#   df.loc[i,\"price\"] = sub_mamak.loc[i,\"price\"]\n",
    "\n",
    "\n",
    "print(df)\n"
   ]
  },
  {
   "cell_type": "code",
   "execution_count": 135,
   "metadata": {
    "id": "R7HSrA_jnZAH"
   },
   "outputs": [],
   "source": [
    "# Cleaning Age Column"
   ]
  },
  {
   "cell_type": "code",
   "execution_count": 136,
   "metadata": {
    "colab": {
     "base_uri": "https://localhost:8080/"
    },
    "id": "HSq1peOnnhLo",
    "outputId": "aed427d4-f94f-408f-fb2d-ab8b0083a15d"
   },
   "outputs": [
    {
     "data": {
      "text/plain": [
       "price                             0\n",
       "age                              22\n",
       "floor                            29\n",
       "heating_system                   30\n",
       "number_of_room                   26\n",
       "district                          0\n",
       "area                             25\n",
       "unit                             21\n",
       "district_socioeconomic_status     0\n",
       "dtype: int64"
      ]
     },
     "execution_count": 136,
     "metadata": {},
     "output_type": "execute_result"
    }
   ],
   "source": [
    "df.isnull().sum() # age column has 22 null values"
   ]
  },
  {
   "cell_type": "code",
   "execution_count": 137,
   "metadata": {
    "colab": {
     "base_uri": "https://localhost:8080/"
    },
    "id": "5B0MGypznhPc",
    "outputId": "7fc960c0-6489-4660-9c71-2af0c61f276a"
   },
   "outputs": [
    {
     "data": {
      "text/plain": [
       "0     5.0\n",
       "1     7.0\n",
       "2    11.0\n",
       "3     7.0\n",
       "4     6.0\n",
       "5     6.0\n",
       "6     8.0\n",
       "7     NaN\n",
       "8     5.0\n",
       "9    11.0\n",
       "Name: age, dtype: float64"
      ]
     },
     "execution_count": 137,
     "metadata": {},
     "output_type": "execute_result"
    }
   ],
   "source": [
    "df[\"age\"].head(10)"
   ]
  },
  {
   "cell_type": "code",
   "execution_count": 138,
   "metadata": {
    "colab": {
     "base_uri": "https://localhost:8080/"
    },
    "id": "UwhTpHIbnhUI",
    "outputId": "39fabead-5e7c-4737-cf95-f8cac5c49eef"
   },
   "outputs": [
    {
     "data": {
      "text/plain": [
       "150    1000.0\n",
       "151       7.0\n",
       "152       9.0\n",
       "153       7.0\n",
       "154       8.0\n",
       "155    1000.0\n",
       "156      11.0\n",
       "157       7.0\n",
       "158       5.0\n",
       "159       9.0\n",
       "Name: age, dtype: float64"
      ]
     },
     "execution_count": 138,
     "metadata": {},
     "output_type": "execute_result"
    }
   ],
   "source": [
    "df[\"age\"].tail(10)"
   ]
  },
  {
   "cell_type": "code",
   "execution_count": 139,
   "metadata": {
    "colab": {
     "base_uri": "https://localhost:8080/"
    },
    "id": "NhNk_Avino-T",
    "outputId": "c853026b-f5f4-495f-b70d-25e75d43eaf9"
   },
   "outputs": [
    {
     "data": {
      "text/plain": [
       "district\n",
       "Keçiören    8.0\n",
       "Mamak       8.0\n",
       "Çankaya     9.0\n",
       "Name: age, dtype: float64"
      ]
     },
     "execution_count": 139,
     "metadata": {},
     "output_type": "execute_result"
    }
   ],
   "source": [
    "df.groupby('district')[\"age\"].median()\n",
    "# Since variable has outliers median will be more robust than mean also if mean would be used decimal number will be meaningless"
   ]
  },
  {
   "cell_type": "code",
   "execution_count": 140,
   "metadata": {
    "colab": {
     "base_uri": "https://localhost:8080/"
    },
    "id": "VSjtT9UvnpCH",
    "outputId": "60082275-380c-4e1e-a2cf-5f4e4ad7c44a"
   },
   "outputs": [
    {
     "name": "stdout",
     "output_type": "stream",
     "text": [
      "[ 29  40  47  91 150 155]\n"
     ]
    }
   ],
   "source": [
    "print(df[df[\"age\"]==1000].index.values) # in order to see what is the indexes of outliers "
   ]
  },
  {
   "cell_type": "code",
   "execution_count": 141,
   "metadata": {
    "id": "QHOu-E0Onsfh"
   },
   "outputs": [],
   "source": [
    "# NaN values are filled with median\n",
    "df['age'].fillna((df['age'].median()), inplace=True)"
   ]
  },
  {
   "cell_type": "code",
   "execution_count": 142,
   "metadata": {
    "id": "SIRPRgvSnsvA"
   },
   "outputs": [],
   "source": [
    "for j in [ 29 , 40 , 47 , 91 ,150 , 155]:\n",
    "    df.iat[j,1] = 8\n",
    "# 1000 values(outliers) are changed with median"
   ]
  },
  {
   "cell_type": "code",
   "execution_count": 143,
   "metadata": {
    "id": "LlUc2QKvn_0H"
   },
   "outputs": [],
   "source": [
    "# Cleaning Floor Column"
   ]
  },
  {
   "cell_type": "code",
   "execution_count": 144,
   "metadata": {
    "colab": {
     "base_uri": "https://localhost:8080/"
    },
    "id": "Fn6fBOfFn_9g",
    "outputId": "95badc17-d937-427d-dbb7-6764d84c3f74"
   },
   "outputs": [
    {
     "data": {
      "text/plain": [
       "29"
      ]
     },
     "execution_count": 144,
     "metadata": {},
     "output_type": "execute_result"
    }
   ],
   "source": [
    "df[\"floor\"].isnull().sum() # total number of nulls in floor column"
   ]
  },
  {
   "cell_type": "code",
   "execution_count": 145,
   "metadata": {
    "colab": {
     "base_uri": "https://localhost:8080/"
    },
    "id": "Zdd6xuX4oZN9",
    "outputId": "1044d47d-ef25-43d3-ab34-da05426e3487"
   },
   "outputs": [
    {
     "name": "stdout",
     "output_type": "stream",
     "text": [
      "[ 33  57 117 118 122 157]\n"
     ]
    },
    {
     "data": {
      "text/plain": [
       "2.9083969465648853"
      ]
     },
     "execution_count": 145,
     "metadata": {},
     "output_type": "execute_result"
    }
   ],
   "source": [
    "print(df[df[\"floor\"]==0].index.values) # to find indexes of numbers whose values are 0\n",
    "df[\"floor\"].mean() # decimal number it can be rounded but it will be same with median "
   ]
  },
  {
   "cell_type": "code",
   "execution_count": 146,
   "metadata": {
    "id": "ETUUVb-aoZiB"
   },
   "outputs": [],
   "source": [
    "for j in [ 33 ,  57 , 117 , 118 , 122 , 157]:\n",
    "    df.iat[j,2] = np.nan\n",
    "# Finally, 0 values are changed with NaN to be able to change them with one code of block"
   ]
  },
  {
   "cell_type": "code",
   "execution_count": 147,
   "metadata": {
    "id": "jU-zW0wboZR1"
   },
   "outputs": [],
   "source": [
    "df.groupby('district')[\"floor\"].median() # median is used because variable has outliers\n",
    "\n",
    "d_medians = df.groupby('district')[\"floor\"].median()\n",
    "\n",
    "m_median = d_medians[1] # 1\n",
    "k_median = d_medians[0] # 2\n",
    "c_median = d_medians[2] # 4"
   ]
  },
  {
   "cell_type": "code",
   "execution_count": 148,
   "metadata": {
    "id": "VQT__eKFoZav"
   },
   "outputs": [],
   "source": [
    "df['floor'].fillna((df['floor'].median()), inplace=True) # NaN values are filled with median\n",
    "\n",
    "\n",
    "df.loc[np.logical_and(df[\"floor\"].isna(), df[\"district\"] == 'Mamak'), 'floor'] = m_median\n",
    "df.loc[np.logical_and(df[\"floor\"].isna(), df[\"district\"] == 'Keçiören'), 'floor'] = k_median\n",
    "df.loc[np.logical_and(df[\"floor\"].isna(), df[\"district\"] == 'Çankaya'), 'floor'] = c_median"
   ]
  },
  {
   "cell_type": "code",
   "execution_count": 149,
   "metadata": {
    "id": "yhQzoKcDoiQB"
   },
   "outputs": [],
   "source": [
    "# Cleaning Heating System Column"
   ]
  },
  {
   "cell_type": "code",
   "execution_count": 150,
   "metadata": {
    "id": "L-YbIjv8oiTH"
   },
   "outputs": [],
   "source": [
    "# This column does not have value it will be dropped\n",
    "df.drop(\"heating_system\", axis=1, inplace=True)"
   ]
  },
  {
   "cell_type": "code",
   "execution_count": 151,
   "metadata": {
    "colab": {
     "base_uri": "https://localhost:8080/"
    },
    "id": "qzZYaxQWdrkI",
    "outputId": "5587de7e-9e38-4601-82b5-6cf00fef1a34"
   },
   "outputs": [
    {
     "name": "stdout",
     "output_type": "stream",
     "text": [
      "             price   age  floor  number_of_room  district   area unit  \\\n",
      "0    497075.000000   5.0    3.0             3.0     Mamak  112.5   m2   \n",
      "1    619741.000000   7.0    5.0             6.0   Çankaya  153.1   m2   \n",
      "2    565145.000000  11.0    5.0             NaN   Çankaya    NaN   m2   \n",
      "3    593184.000000   7.0    5.0             4.0   Çankaya  127.3   m2   \n",
      "4    480906.000000   6.0    1.0             NaN     Mamak   79.9   m2   \n",
      "..             ...   ...    ...             ...       ...    ...  ...   \n",
      "155  580667.000000   8.0    5.0             NaN   Çankaya  115.7   m2   \n",
      "156  505701.000000  11.0    3.0             2.0  Keçiören  106.1  NaN   \n",
      "157  481459.000000   7.0    3.0             3.0     Mamak    NaN   m2   \n",
      "158  532142.000000   5.0    2.0             4.0  Keçiören  131.0   m2   \n",
      "159  526836.421053   9.0    3.0             2.0  Keçiören  101.2   m2   \n",
      "\n",
      "    district_socioeconomic_status  \n",
      "0                       Low Level  \n",
      "1                      High Level  \n",
      "2                      High Level  \n",
      "3                      High Level  \n",
      "4                       Low Level  \n",
      "..                            ...  \n",
      "155                    High Level  \n",
      "156                  Middle Level  \n",
      "157                     Low Level  \n",
      "158                  Middle Level  \n",
      "159                  Middle Level  \n",
      "\n",
      "[160 rows x 8 columns]\n",
      "             price   age  floor  number_of_room  district   area unit  \\\n",
      "0    497075.000000   5.0    3.0             3.0     Mamak  112.5   m2   \n",
      "1    619741.000000   7.0    5.0             6.0   Çankaya  153.1   m2   \n",
      "2    565145.000000  11.0    5.0             4.0   Çankaya    NaN   m2   \n",
      "3    593184.000000   7.0    5.0             4.0   Çankaya  127.3   m2   \n",
      "4    480906.000000   6.0    1.0             2.0     Mamak   79.9   m2   \n",
      "..             ...   ...    ...             ...       ...    ...  ...   \n",
      "155  580667.000000   8.0    5.0             4.0   Çankaya  115.7   m2   \n",
      "156  505701.000000  11.0    3.0             2.0  Keçiören  106.1  NaN   \n",
      "157  481459.000000   7.0    3.0             3.0     Mamak    NaN   m2   \n",
      "158  532142.000000   5.0    2.0             4.0  Keçiören  131.0   m2   \n",
      "159  526836.421053   9.0    3.0             2.0  Keçiören  101.2   m2   \n",
      "\n",
      "    district_socioeconomic_status  \n",
      "0                       Low Level  \n",
      "1                      High Level  \n",
      "2                      High Level  \n",
      "3                      High Level  \n",
      "4                       Low Level  \n",
      "..                            ...  \n",
      "155                    High Level  \n",
      "156                  Middle Level  \n",
      "157                     Low Level  \n",
      "158                  Middle Level  \n",
      "159                  Middle Level  \n",
      "\n",
      "[160 rows x 8 columns]\n"
     ]
    },
    {
     "name": "stderr",
     "output_type": "stream",
     "text": [
      "/usr/local/lib/python3.8/dist-packages/pandas/core/generic.py:6392: SettingWithCopyWarning: \n",
      "A value is trying to be set on a copy of a slice from a DataFrame\n",
      "\n",
      "See the caveats in the documentation: https://pandas.pydata.org/pandas-docs/stable/user_guide/indexing.html#returning-a-view-versus-a-copy\n",
      "  return self._update_inplace(result)\n"
     ]
    }
   ],
   "source": [
    "df[\"number_of_room\"].replace(to_replace= 0,value= np.nan, inplace= True)\n",
    "print(df) #We converted 0 values to NaN because there can not be 0 rooms in a house.\n",
    "# Mamak, Keçiören, and Çankaya have medians 2,3, and 4 ,respectively.\n",
    "\n",
    "d_medians = df.groupby('district')[\"floor\"].median()\n",
    "\n",
    "m_median = d_medians[1] # 2\n",
    "k_median = d_medians[0] # 3\n",
    "c_median = d_medians[2] # 4\n",
    "\n",
    "# df.loc[np.logical_and(df[\"floor\"].isna(), df[\"district\"] == 'Mamak'), 'floor'] = m_median\n",
    "# df.loc[np.logical_and(df[\"floor\"].isna(), df[\"district\"] == 'Keçiören'), 'floor'] = k_median\n",
    "# df.loc[np.logical_and(df[\"floor\"].isna(), df[\"district\"] == 'Çankaya'), 'floor'] = c_median\n",
    "\n",
    "sub_cankaya = df[df[\"district\"]== \"Çankaya\"]\n",
    "sub_keciören = df[df[\"district\"]== \"Keçiören\"]\n",
    "sub_mamak = df[df[\"district\"]== \"Mamak\"]\n",
    "# #We create subsets, since the median values of 3 district have a meaningful median differences.\n",
    "\n",
    "sub_cankaya.fillna({\"number_of_room\": c_median}, inplace = True) \n",
    "sub_mamak.fillna({\"number_of_room\": m_median}, inplace = True) \n",
    "sub_keciören.fillna({\"number_of_room\": k_median}, inplace = True) \n",
    "# #We filled NaN values with that district's median value.\n",
    "for i in sub_cankaya.index:\n",
    "  df.loc[i,\"number_of_room\"] = sub_cankaya.loc[i,\"number_of_room\"]\n",
    "for i in sub_keciören.index:\n",
    "  df.loc[i,\"number_of_room\"] = sub_keciören.loc[i,\"number_of_room\"]\n",
    "for i in sub_mamak.index:\n",
    "  df.loc[i,\"number_of_room\"] = sub_mamak.loc[i,\"number_of_room\"]\n",
    "#We changed that index with appropriate subset values in here by using for loop.\n",
    "\n",
    "print(df)\n",
    "\n",
    "\n",
    "\n",
    "\n",
    "\n",
    "# median = df[\"number_of_room\"].median() #To calculate the median of number of room.\n",
    "# median\n",
    "# df['number_of_room'].iloc[df['number_of_room'] == 0] = median #There were 0 number rooms which like NaN values, so, i changed them with the median.\n",
    "# df['number_of_room'].fillna(median, inplace= True) #To fill NaN values with the median values.\n",
    "# print(df)\n",
    "\n"
   ]
  },
  {
   "cell_type": "code",
   "execution_count": 152,
   "metadata": {
    "colab": {
     "base_uri": "https://localhost:8080/"
    },
    "id": "f5Kg0FY7RkrF",
    "outputId": "fec72d35-e26b-4b24-bf6b-5285822d2127"
   },
   "outputs": [
    {
     "name": "stdout",
     "output_type": "stream",
     "text": [
      "129.22549019607843 114.69642857142857 93.01428571428572\n",
      "             price   age  floor  number_of_room  district        area unit  \\\n",
      "0    497075.000000   5.0    3.0             3.0     Mamak  112.500000   m2   \n",
      "1    619741.000000   7.0    5.0             6.0   Çankaya  153.100000   m2   \n",
      "2    565145.000000  11.0    5.0             4.0   Çankaya  129.225490   m2   \n",
      "3    593184.000000   7.0    5.0             4.0   Çankaya  127.300000   m2   \n",
      "4    480906.000000   6.0    1.0             2.0     Mamak   79.900000   m2   \n",
      "..             ...   ...    ...             ...       ...         ...  ...   \n",
      "155  580667.000000   8.0    5.0             4.0   Çankaya  115.700000   m2   \n",
      "156  505701.000000  11.0    3.0             2.0  Keçiören  106.100000  NaN   \n",
      "157  481459.000000   7.0    3.0             3.0     Mamak   93.014286   m2   \n",
      "158  532142.000000   5.0    2.0             4.0  Keçiören  131.000000   m2   \n",
      "159  526836.421053   9.0    3.0             2.0  Keçiören  101.200000   m2   \n",
      "\n",
      "    district_socioeconomic_status  \n",
      "0                       Low Level  \n",
      "1                      High Level  \n",
      "2                      High Level  \n",
      "3                      High Level  \n",
      "4                       Low Level  \n",
      "..                            ...  \n",
      "155                    High Level  \n",
      "156                  Middle Level  \n",
      "157                     Low Level  \n",
      "158                  Middle Level  \n",
      "159                  Middle Level  \n",
      "\n",
      "[160 rows x 8 columns]\n"
     ]
    },
    {
     "name": "stderr",
     "output_type": "stream",
     "text": [
      "/usr/local/lib/python3.8/dist-packages/pandas/core/indexing.py:1732: SettingWithCopyWarning: \n",
      "A value is trying to be set on a copy of a slice from a DataFrame\n",
      "\n",
      "See the caveats in the documentation: https://pandas.pydata.org/pandas-docs/stable/user_guide/indexing.html#returning-a-view-versus-a-copy\n",
      "  self._setitem_single_block(indexer, value, name)\n",
      "/usr/local/lib/python3.8/dist-packages/pandas/core/generic.py:6392: SettingWithCopyWarning: \n",
      "A value is trying to be set on a copy of a slice from a DataFrame\n",
      "\n",
      "See the caveats in the documentation: https://pandas.pydata.org/pandas-docs/stable/user_guide/indexing.html#returning-a-view-versus-a-copy\n",
      "  return self._update_inplace(result)\n"
     ]
    }
   ],
   "source": [
    "df['area'].loc[df['unit'] ==\"cm2\"] = df['area'].loc[df['unit'] ==\"cm2\"]/10000 \n",
    "#Converted areas whose have units cm2 to m2. Divide cm2 to 10000.\n",
    "mean_area = df.groupby(\"district\")[\"area\"].agg(np.mean)\n",
    "mamak_mean = mean_area[1]\n",
    "keciören_mean = mean_area[0]\n",
    "cankaya_mean = mean_area[2]\n",
    "#The mean area with respect to districts are divided.\n",
    "sub_cankaya = df[df[\"district\"]== \"Çankaya\"]\n",
    "sub_keciören = df[df[\"district\"]== \"Keçiören\"]\n",
    "sub_mamak = df[df[\"district\"]== \"Mamak\"]\n",
    "print(cankaya_mean,keciören_mean,mamak_mean)\n",
    "#Subsets areas are created \n",
    "#Because we can not assign general mean to all NaN values,\n",
    "#Since there is a meaningful difference between their mean  \n",
    "\n",
    "sub_cankaya.fillna({\"area\": cankaya_mean}, inplace = True) \n",
    "sub_mamak.fillna({\"area\": mamak_mean}, inplace = True) \n",
    "sub_keciören.fillna({\"area\": keciören_mean}, inplace = True) \n",
    "\n",
    "for i in sub_cankaya.index:\n",
    "  df.loc[i,\"area\"] = sub_cankaya.loc[i,\"area\"]\n",
    "for i in sub_keciören.index:\n",
    "  df.loc[i,\"area\"] = sub_keciören.loc[i,\"area\"]\n",
    "for i in sub_mamak.index:\n",
    "  df.loc[i,\"area\"] = sub_mamak.loc[i,\"area\"]\n",
    "\n",
    "# # price_ankara[\"area\"].fillna(mamak_mean, inplace= True)\n",
    "# df[\"area\"].loc[df[\"district\"] == \"Keçiören\"].replace(np.nan, keciören_mean)\n",
    "# df.loc[df[\"district\"] == \"Çankaya\", \"area\"].replace(np.nan,31)\n",
    "print(df)\n",
    "\n",
    "\n"
   ]
  },
  {
   "cell_type": "code",
   "execution_count": 153,
   "metadata": {
    "colab": {
     "base_uri": "https://localhost:8080/"
    },
    "id": "7h6Wm8dDpgb5",
    "outputId": "ab5353f1-fd9e-404a-b4fc-a5e65bae883b"
   },
   "outputs": [
    {
     "data": {
      "text/plain": [
       "0      m2\n",
       "1      m2\n",
       "2      m2\n",
       "3      m2\n",
       "4      m2\n",
       "       ..\n",
       "155    m2\n",
       "156    m2\n",
       "157    m2\n",
       "158    m2\n",
       "159    m2\n",
       "Name: unit, Length: 160, dtype: object"
      ]
     },
     "execution_count": 153,
     "metadata": {},
     "output_type": "execute_result"
    }
   ],
   "source": [
    "df['unit'] = df['unit'].str.replace('cm2','m2')#Replaced cm2 to m2. So, there is no cm2 data since i converted all them to m2.\n",
    "df['unit'].head(10)\n",
    "df[\"unit\"].fillna(\"m2\", inplace= True)#Since all area data was converted to m2, all units must be m2. I filled NaN data with m2.\n",
    "df[\"unit\"]\n",
    "                          "
   ]
  },
  {
   "cell_type": "code",
   "execution_count": 154,
   "metadata": {
    "id": "comhjwG41Gzn"
   },
   "outputs": [],
   "source": [
    "df[\"area\"] = df['area'].apply(np.ceil)"
   ]
  },
  {
   "cell_type": "code",
   "execution_count": 155,
   "metadata": {
    "id": "sbG1EuamfszO"
   },
   "outputs": [],
   "source": [
    "df.rename(columns = {'price':'Price', 'age':'Age','floor':'Floor', 'district':'District',\n",
    "              'number_of_room':'Number of Room','area':'Area','unit':'Unit',\n",
    "              'district_socioeconomic_status':'District Socioeconomic Status'}, inplace = True)"
   ]
  },
  {
   "cell_type": "code",
   "execution_count": 156,
   "metadata": {
    "colab": {
     "base_uri": "https://localhost:8080/",
     "height": 423
    },
    "id": "msG0x-q7slf8",
    "outputId": "623f9c74-c75a-4811-f3ee-f2e7a6c9dacb"
   },
   "outputs": [
    {
     "data": {
      "text/html": [
       "\n",
       "  <div id=\"df-1fcba4bd-41eb-473f-be18-456efb8cd1a4\">\n",
       "    <div class=\"colab-df-container\">\n",
       "      <div>\n",
       "<style scoped>\n",
       "    .dataframe tbody tr th:only-of-type {\n",
       "        vertical-align: middle;\n",
       "    }\n",
       "\n",
       "    .dataframe tbody tr th {\n",
       "        vertical-align: top;\n",
       "    }\n",
       "\n",
       "    .dataframe thead th {\n",
       "        text-align: right;\n",
       "    }\n",
       "</style>\n",
       "<table border=\"1\" class=\"dataframe\">\n",
       "  <thead>\n",
       "    <tr style=\"text-align: right;\">\n",
       "      <th></th>\n",
       "      <th>Price</th>\n",
       "      <th>Age</th>\n",
       "      <th>Floor</th>\n",
       "      <th>Number of Room</th>\n",
       "      <th>District</th>\n",
       "      <th>Area</th>\n",
       "      <th>Unit</th>\n",
       "      <th>District Socioeconomic Status</th>\n",
       "    </tr>\n",
       "  </thead>\n",
       "  <tbody>\n",
       "    <tr>\n",
       "      <th>0</th>\n",
       "      <td>497075.000000</td>\n",
       "      <td>5.0</td>\n",
       "      <td>3.0</td>\n",
       "      <td>3.0</td>\n",
       "      <td>Mamak</td>\n",
       "      <td>113.0</td>\n",
       "      <td>m2</td>\n",
       "      <td>Low Level</td>\n",
       "    </tr>\n",
       "    <tr>\n",
       "      <th>1</th>\n",
       "      <td>619741.000000</td>\n",
       "      <td>7.0</td>\n",
       "      <td>5.0</td>\n",
       "      <td>6.0</td>\n",
       "      <td>Çankaya</td>\n",
       "      <td>154.0</td>\n",
       "      <td>m2</td>\n",
       "      <td>High Level</td>\n",
       "    </tr>\n",
       "    <tr>\n",
       "      <th>2</th>\n",
       "      <td>565145.000000</td>\n",
       "      <td>11.0</td>\n",
       "      <td>5.0</td>\n",
       "      <td>4.0</td>\n",
       "      <td>Çankaya</td>\n",
       "      <td>130.0</td>\n",
       "      <td>m2</td>\n",
       "      <td>High Level</td>\n",
       "    </tr>\n",
       "    <tr>\n",
       "      <th>3</th>\n",
       "      <td>593184.000000</td>\n",
       "      <td>7.0</td>\n",
       "      <td>5.0</td>\n",
       "      <td>4.0</td>\n",
       "      <td>Çankaya</td>\n",
       "      <td>128.0</td>\n",
       "      <td>m2</td>\n",
       "      <td>High Level</td>\n",
       "    </tr>\n",
       "    <tr>\n",
       "      <th>4</th>\n",
       "      <td>480906.000000</td>\n",
       "      <td>6.0</td>\n",
       "      <td>1.0</td>\n",
       "      <td>2.0</td>\n",
       "      <td>Mamak</td>\n",
       "      <td>80.0</td>\n",
       "      <td>m2</td>\n",
       "      <td>Low Level</td>\n",
       "    </tr>\n",
       "    <tr>\n",
       "      <th>...</th>\n",
       "      <td>...</td>\n",
       "      <td>...</td>\n",
       "      <td>...</td>\n",
       "      <td>...</td>\n",
       "      <td>...</td>\n",
       "      <td>...</td>\n",
       "      <td>...</td>\n",
       "      <td>...</td>\n",
       "    </tr>\n",
       "    <tr>\n",
       "      <th>155</th>\n",
       "      <td>580667.000000</td>\n",
       "      <td>8.0</td>\n",
       "      <td>5.0</td>\n",
       "      <td>4.0</td>\n",
       "      <td>Çankaya</td>\n",
       "      <td>116.0</td>\n",
       "      <td>m2</td>\n",
       "      <td>High Level</td>\n",
       "    </tr>\n",
       "    <tr>\n",
       "      <th>156</th>\n",
       "      <td>505701.000000</td>\n",
       "      <td>11.0</td>\n",
       "      <td>3.0</td>\n",
       "      <td>2.0</td>\n",
       "      <td>Keçiören</td>\n",
       "      <td>107.0</td>\n",
       "      <td>m2</td>\n",
       "      <td>Middle Level</td>\n",
       "    </tr>\n",
       "    <tr>\n",
       "      <th>157</th>\n",
       "      <td>481459.000000</td>\n",
       "      <td>7.0</td>\n",
       "      <td>3.0</td>\n",
       "      <td>3.0</td>\n",
       "      <td>Mamak</td>\n",
       "      <td>94.0</td>\n",
       "      <td>m2</td>\n",
       "      <td>Low Level</td>\n",
       "    </tr>\n",
       "    <tr>\n",
       "      <th>158</th>\n",
       "      <td>532142.000000</td>\n",
       "      <td>5.0</td>\n",
       "      <td>2.0</td>\n",
       "      <td>4.0</td>\n",
       "      <td>Keçiören</td>\n",
       "      <td>131.0</td>\n",
       "      <td>m2</td>\n",
       "      <td>Middle Level</td>\n",
       "    </tr>\n",
       "    <tr>\n",
       "      <th>159</th>\n",
       "      <td>526836.421053</td>\n",
       "      <td>9.0</td>\n",
       "      <td>3.0</td>\n",
       "      <td>2.0</td>\n",
       "      <td>Keçiören</td>\n",
       "      <td>102.0</td>\n",
       "      <td>m2</td>\n",
       "      <td>Middle Level</td>\n",
       "    </tr>\n",
       "  </tbody>\n",
       "</table>\n",
       "<p>160 rows × 8 columns</p>\n",
       "</div>\n",
       "      <button class=\"colab-df-convert\" onclick=\"convertToInteractive('df-1fcba4bd-41eb-473f-be18-456efb8cd1a4')\"\n",
       "              title=\"Convert this dataframe to an interactive table.\"\n",
       "              style=\"display:none;\">\n",
       "        \n",
       "  <svg xmlns=\"http://www.w3.org/2000/svg\" height=\"24px\"viewBox=\"0 0 24 24\"\n",
       "       width=\"24px\">\n",
       "    <path d=\"M0 0h24v24H0V0z\" fill=\"none\"/>\n",
       "    <path d=\"M18.56 5.44l.94 2.06.94-2.06 2.06-.94-2.06-.94-.94-2.06-.94 2.06-2.06.94zm-11 1L8.5 8.5l.94-2.06 2.06-.94-2.06-.94L8.5 2.5l-.94 2.06-2.06.94zm10 10l.94 2.06.94-2.06 2.06-.94-2.06-.94-.94-2.06-.94 2.06-2.06.94z\"/><path d=\"M17.41 7.96l-1.37-1.37c-.4-.4-.92-.59-1.43-.59-.52 0-1.04.2-1.43.59L10.3 9.45l-7.72 7.72c-.78.78-.78 2.05 0 2.83L4 21.41c.39.39.9.59 1.41.59.51 0 1.02-.2 1.41-.59l7.78-7.78 2.81-2.81c.8-.78.8-2.07 0-2.86zM5.41 20L4 18.59l7.72-7.72 1.47 1.35L5.41 20z\"/>\n",
       "  </svg>\n",
       "      </button>\n",
       "      \n",
       "  <style>\n",
       "    .colab-df-container {\n",
       "      display:flex;\n",
       "      flex-wrap:wrap;\n",
       "      gap: 12px;\n",
       "    }\n",
       "\n",
       "    .colab-df-convert {\n",
       "      background-color: #E8F0FE;\n",
       "      border: none;\n",
       "      border-radius: 50%;\n",
       "      cursor: pointer;\n",
       "      display: none;\n",
       "      fill: #1967D2;\n",
       "      height: 32px;\n",
       "      padding: 0 0 0 0;\n",
       "      width: 32px;\n",
       "    }\n",
       "\n",
       "    .colab-df-convert:hover {\n",
       "      background-color: #E2EBFA;\n",
       "      box-shadow: 0px 1px 2px rgba(60, 64, 67, 0.3), 0px 1px 3px 1px rgba(60, 64, 67, 0.15);\n",
       "      fill: #174EA6;\n",
       "    }\n",
       "\n",
       "    [theme=dark] .colab-df-convert {\n",
       "      background-color: #3B4455;\n",
       "      fill: #D2E3FC;\n",
       "    }\n",
       "\n",
       "    [theme=dark] .colab-df-convert:hover {\n",
       "      background-color: #434B5C;\n",
       "      box-shadow: 0px 1px 3px 1px rgba(0, 0, 0, 0.15);\n",
       "      filter: drop-shadow(0px 1px 2px rgba(0, 0, 0, 0.3));\n",
       "      fill: #FFFFFF;\n",
       "    }\n",
       "  </style>\n",
       "\n",
       "      <script>\n",
       "        const buttonEl =\n",
       "          document.querySelector('#df-1fcba4bd-41eb-473f-be18-456efb8cd1a4 button.colab-df-convert');\n",
       "        buttonEl.style.display =\n",
       "          google.colab.kernel.accessAllowed ? 'block' : 'none';\n",
       "\n",
       "        async function convertToInteractive(key) {\n",
       "          const element = document.querySelector('#df-1fcba4bd-41eb-473f-be18-456efb8cd1a4');\n",
       "          const dataTable =\n",
       "            await google.colab.kernel.invokeFunction('convertToInteractive',\n",
       "                                                     [key], {});\n",
       "          if (!dataTable) return;\n",
       "\n",
       "          const docLinkHtml = 'Like what you see? Visit the ' +\n",
       "            '<a target=\"_blank\" href=https://colab.research.google.com/notebooks/data_table.ipynb>data table notebook</a>'\n",
       "            + ' to learn more about interactive tables.';\n",
       "          element.innerHTML = '';\n",
       "          dataTable['output_type'] = 'display_data';\n",
       "          await google.colab.output.renderOutput(dataTable, element);\n",
       "          const docLink = document.createElement('div');\n",
       "          docLink.innerHTML = docLinkHtml;\n",
       "          element.appendChild(docLink);\n",
       "        }\n",
       "      </script>\n",
       "    </div>\n",
       "  </div>\n",
       "  "
      ],
      "text/plain": [
       "             Price   Age  Floor  Number of Room  District   Area Unit  \\\n",
       "0    497075.000000   5.0    3.0             3.0     Mamak  113.0   m2   \n",
       "1    619741.000000   7.0    5.0             6.0   Çankaya  154.0   m2   \n",
       "2    565145.000000  11.0    5.0             4.0   Çankaya  130.0   m2   \n",
       "3    593184.000000   7.0    5.0             4.0   Çankaya  128.0   m2   \n",
       "4    480906.000000   6.0    1.0             2.0     Mamak   80.0   m2   \n",
       "..             ...   ...    ...             ...       ...    ...  ...   \n",
       "155  580667.000000   8.0    5.0             4.0   Çankaya  116.0   m2   \n",
       "156  505701.000000  11.0    3.0             2.0  Keçiören  107.0   m2   \n",
       "157  481459.000000   7.0    3.0             3.0     Mamak   94.0   m2   \n",
       "158  532142.000000   5.0    2.0             4.0  Keçiören  131.0   m2   \n",
       "159  526836.421053   9.0    3.0             2.0  Keçiören  102.0   m2   \n",
       "\n",
       "    District Socioeconomic Status  \n",
       "0                       Low Level  \n",
       "1                      High Level  \n",
       "2                      High Level  \n",
       "3                      High Level  \n",
       "4                       Low Level  \n",
       "..                            ...  \n",
       "155                    High Level  \n",
       "156                  Middle Level  \n",
       "157                     Low Level  \n",
       "158                  Middle Level  \n",
       "159                  Middle Level  \n",
       "\n",
       "[160 rows x 8 columns]"
      ]
     },
     "execution_count": 156,
     "metadata": {},
     "output_type": "execute_result"
    }
   ],
   "source": [
    "df"
   ]
  },
  {
   "cell_type": "code",
   "execution_count": 158,
   "metadata": {
    "id": "yCSpgOXAH1jM"
   },
   "outputs": [],
   "source": [
    "df.to_excel(\"Clean Data.xlsx\")\n"
   ]
  }
 ],
 "metadata": {
  "colab": {
   "provenance": []
  },
  "kernelspec": {
   "display_name": "Python 3",
   "language": "python",
   "name": "python3"
  },
  "language_info": {
   "codemirror_mode": {
    "name": "ipython",
    "version": 3
   },
   "file_extension": ".py",
   "mimetype": "text/x-python",
   "name": "python",
   "nbconvert_exporter": "python",
   "pygments_lexer": "ipython3",
   "version": "3.8.8"
  }
 },
 "nbformat": 4,
 "nbformat_minor": 1
}
